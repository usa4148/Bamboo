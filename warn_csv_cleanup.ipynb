{
 "cells": [
  {
   "cell_type": "code",
   "execution_count": 6,
   "id": "scenic-administrator",
   "metadata": {},
   "outputs": [],
   "source": [
    "#\n",
    "# ETL Project Group 6 Team Bamboo\n",
    "#   Dan C.\n",
    "#\n",
    "\n",
    "import pandas as pd\n",
    "file = 'Resources/warn-2015.csv'\n",
    "warn_df = pd.read_csv(file, encoding=\"ISO-8859-1\",low_memory=False)\n",
    "# warn_df\n",
    "\n",
    "clean_warn_df = warn_df.drop(['POLYGON'],1)\n",
    "clean_warn_df.reset_index(drop=True, inplace=True)\n",
    "clean_warn_df\n",
    "\n",
    "df_out_file = 'Resources/warn-df-2015.csv'\n",
    "clean_warn_df.to_csv(df_out_file, index=False, header=True)\n",
    "print (clean_warn_df)"
   ]
  }
 ],
 "metadata": {
  "kernelspec": {
   "display_name": "Python 3",
   "language": "python",
   "name": "python3"
  },
  "language_info": {
   "codemirror_mode": {
    "name": "ipython",
    "version": 3
   },
   "file_extension": ".py",
   "mimetype": "text/x-python",
   "name": "python",
   "nbconvert_exporter": "python",
   "pygments_lexer": "ipython3",
   "version": "3.8.8"
  }
 },
 "nbformat": 4,
 "nbformat_minor": 5
}
